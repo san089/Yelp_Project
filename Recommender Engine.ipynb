{
 "cells": [
  {
   "cell_type": "code",
   "execution_count": 1,
   "metadata": {},
   "outputs": [],
   "source": [
    "import pandas as pd\n",
    "import numpy as np\n",
    "import json\n",
    "import pyarrow\n",
    "import logging\n",
    "import os\n",
    "import findspark\n",
    "findspark.init()\n",
    "from collections import Counter"
   ]
  },
  {
   "cell_type": "code",
   "execution_count": 2,
   "metadata": {},
   "outputs": [],
   "source": [
    "#Spark imports and setting spark session\n",
    "from pyspark.sql import SparkSession\n",
    "\n",
    "spark = SparkSession.builder.master('local').appName('Recommender_Engine').getOrCreate()"
   ]
  },
  {
   "cell_type": "code",
   "execution_count": 3,
   "metadata": {},
   "outputs": [],
   "source": [
    "#Setting the configurations like paths of the files\n",
    "config_file = open(\"config.json\")\n",
    "configs  = json.load(config_file)\n",
    "\n",
    "#Setting the logging files\n",
    "logging.basicConfig(filename = os.path.join(configs['local_paths']['logging_path'] , 'log.txt') , filemode = 'w' , level = 'INFO')\n"
   ]
  },
  {
   "cell_type": "code",
   "execution_count": 4,
   "metadata": {},
   "outputs": [],
   "source": [
    "analytics_sandbox_path = configs['local_paths']['analytics_sandbox']\n",
    "df = spark.read.csv(analytics_sandbox_path, header = True, inferSchema = True)\n",
    "user_profile = df.filter(df.user_id == 'rGd8YUtvhSdMm8-9cMdQ4Q')\n",
    "df = df.filter(df.city == 'Montreal')\n",
    "temp_df  = df.toPandas()"
   ]
  },
  {
   "cell_type": "code",
   "execution_count": 5,
   "metadata": {},
   "outputs": [],
   "source": [
    "pandas_df = temp_df.iloc[ : 5000 ,  : ]\n",
    "test_df = temp_df.iloc[ 5001 :  , : ]"
   ]
  },
  {
   "cell_type": "code",
   "execution_count": 6,
   "metadata": {},
   "outputs": [],
   "source": [
    "restaurant_df = pandas_df[(pandas_df.business_categories.str.contains('Restaurants') ) \n",
    "                          & (pandas_df.user_review_count > 10)  \n",
    "                          & (pandas_df.review_count > 10)]\n",
    "matrix_x = pd.pivot_table(data=restaurant_df , index='user_id', columns='business_id' , values='review_stars')"
   ]
  },
  {
   "cell_type": "code",
   "execution_count": 7,
   "metadata": {},
   "outputs": [],
   "source": [
    "user_profile = user_profile.toPandas()"
   ]
  },
  {
   "cell_type": "code",
   "execution_count": 8,
   "metadata": {},
   "outputs": [],
   "source": [
    "user_temp_df = user_profile"
   ]
  },
  {
   "cell_type": "code",
   "execution_count": 11,
   "metadata": {},
   "outputs": [],
   "source": [
    "def fetch_user_favourite_tags(df):\n",
    "    '''\n",
    "    Takes the user_profile as pandas dataframe and return the categories tags as dictionary based on the count.\n",
    "    Step 1: Remove other entries other than Restaurants from user profile\n",
    "    Step 2: capture all the categories in a list and run the counter on it to get the  count\n",
    "    '''\n",
    "    df = df[df.business_categories.str.contains('Restaurants')]\n",
    "    l = [val.split(\",\") for val in df.business_categories]\n",
    "    flatten_list = [str.strip(val) for sublist in l for val in sublist if str.strip(val) not in ['Restaurants','Food']]\n",
    "    counter_dict = Counter(flatten_list)\n",
    "    return counter_dict"
   ]
  },
  {
   "cell_type": "code",
   "execution_count": 16,
   "metadata": {},
   "outputs": [
    {
     "name": "stdout",
     "output_type": "stream",
     "text": [
      "Counter({'Chinese': 48, 'Nightlife': 27, 'Japanese': 26, 'Bars': 26, 'Canadian (New)': 25, 'Sandwiches': 24, 'Italian': 21, 'Breakfast & Brunch': 20, 'Coffee & Tea': 20, 'Specialty Food': 17, 'Cafes': 16, 'Pizza': 15, 'Seafood': 15, 'Fast Food': 14, 'Sushi Bars': 12, 'French': 12, 'Desserts': 12, 'Burgers': 11, 'Dim Sum': 10, 'Asian Fusion': 10, 'American (Traditional)': 10, 'Vietnamese': 10, 'Korean': 9, 'Ethnic Food': 8, 'Mediterranean': 8, 'Bakeries': 8, 'Event Planning & Services': 8, 'Barbeque': 8, 'Thai': 7, 'Middle Eastern': 7, 'Noodles': 7, 'Comfort Food': 7, 'American (New)': 7, 'Diners': 6, 'Ramen': 6, 'Caribbean': 6, 'Salad': 6, 'Wine Bars': 6, 'Caterers': 6, 'Mexican': 6, 'Taiwanese': 6, 'Tea Rooms': 5, 'Soup': 5, 'Cocktail Bars': 5, 'Beer': 5, 'Wine & Spirits': 5, 'Ice Cream & Frozen Yogurt': 5, 'Food Trucks': 4, 'Arts & Entertainment': 4, 'Steakhouses': 4, 'Lounges': 4, 'Pubs': 4, 'Street Vendors': 3, 'Vegan': 3, 'Tapas/Small Plates': 3, 'Greek': 3, 'Spanish': 3, 'Indian': 3, 'Belgian': 3, 'Juice Bars & Smoothies': 3, 'Vegetarian': 3, 'Irish': 3, 'Imported Food': 3, 'African': 2, 'Kosher': 2, 'British': 2, 'Food Delivery Services': 2, 'Gastropubs': 2, 'German': 2, 'Music Venues': 2, 'Fish & Chips': 2, 'Halal': 2, 'Food Court': 2, 'Shopping': 2, 'Sports Bars': 2, 'Australian': 1, 'Bubble Tea': 1, 'Modern European': 1, 'Escape Games': 1, 'Active Life': 1, 'Hungarian': 1, 'Creperies': 1, 'Education': 1, 'Specialty Schools': 1, 'Cooking Schools': 1, 'Meat Shops': 1, 'Czech': 1, 'Shanghainese': 1, 'Falafel': 1, 'Tapas Bars': 1, 'Health Markets': 1, 'Dance Clubs': 1, 'Cantonese': 1, 'Breweries': 1, 'Brewpubs': 1, 'Brasseries': 1, 'Hotels & Travel': 1, 'Hotels': 1, 'Wraps': 1, 'Delicatessen': 1, 'Malaysian': 1, 'Portuguese': 1, 'Hot Dogs': 1, 'Convenience Stores': 1, 'Waffles': 1, 'Southern': 1, 'Peruvian': 1, 'Latin American': 1, 'Argentine': 1, 'Shopping Centers': 1, 'Chicken Wings': 1, 'Social Clubs': 1, 'Pakistani': 1, 'Beer Bar': 1, 'Poutineries': 1, 'Seafood Markets': 1, 'Gluten-Free': 1, 'Buffets': 1, 'Bistros': 1, 'Grocery': 1, 'Lebanese': 1, 'Arts & Crafts': 1, 'Cooking Classes': 1, 'Sugar Shacks': 1, 'Venues & Event Spaces': 1, 'Soul Food': 1, 'Tacos': 1, 'Himalayan/Nepalese': 1})\n"
     ]
    }
   ],
   "source": [
    "if __name__ == \"__main__\":\n",
    "    print(fetch_user_favourite_tags(user_temp_df))"
   ]
  }
 ],
 "metadata": {
  "kernelspec": {
   "display_name": "Python 3",
   "language": "python",
   "name": "python3"
  },
  "language_info": {
   "codemirror_mode": {
    "name": "ipython",
    "version": 3
   },
   "file_extension": ".py",
   "mimetype": "text/x-python",
   "name": "python",
   "nbconvert_exporter": "python",
   "pygments_lexer": "ipython3",
   "version": "3.7.1"
  }
 },
 "nbformat": 4,
 "nbformat_minor": 2
}
