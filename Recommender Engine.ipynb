{
 "cells": [
  {
   "cell_type": "code",
   "execution_count": 1,
   "metadata": {},
   "outputs": [],
   "source": [
    "import pandas as pd\n",
    "import numpy as np\n",
    "import json\n",
    "import pyarrow\n",
    "import logging\n",
    "import os\n",
    "import findspark\n",
    "findspark.init()\n",
    "from collections import Counter"
   ]
  },
  {
   "cell_type": "code",
   "execution_count": 2,
   "metadata": {},
   "outputs": [],
   "source": [
    "#Spark imports and setting spark session\n",
    "from pyspark.sql import SparkSession\n",
    "\n",
    "spark = SparkSession.builder.master('local').appName('Recommender_Engine').getOrCreate()"
   ]
  },
  {
   "cell_type": "code",
   "execution_count": 3,
   "metadata": {},
   "outputs": [],
   "source": [
    "#Setting the configurations like paths of the files\n",
    "config_file = open(\"config.json\")\n",
    "configs  = json.load(config_file)\n",
    "\n",
    "#Setting the logging files\n",
    "logging.basicConfig(filename = os.path.join(configs['local_paths']['logging_path'] , 'log.txt') , filemode = 'w' , level = 'INFO')\n"
   ]
  },
  {
   "cell_type": "code",
   "execution_count": 4,
   "metadata": {},
   "outputs": [],
   "source": [
    "analytics_sandbox_path = configs['local_paths']['analytics_sandbox']\n",
    "df = spark.read.csv(analytics_sandbox_path, header = True, inferSchema = True)\n",
    "user_profile = df.filter(df.user_id == 'rGd8YUtvhSdMm8-9cMdQ4Q')\n",
    "df = df.filter(df.city == 'Montreal')\n",
    "temp_df  = df.toPandas()"
   ]
  },
  {
   "cell_type": "code",
   "execution_count": 5,
   "metadata": {},
   "outputs": [],
   "source": [
    "pandas_df = temp_df.iloc[ : 5000 ,  : ]\n",
    "test_df = temp_df.iloc[ 5001 :  , : ]"
   ]
  },
  {
   "cell_type": "code",
   "execution_count": 6,
   "metadata": {},
   "outputs": [],
   "source": [
    "restaurant_df = pandas_df[(pandas_df.business_categories.str.contains('Restaurants') ) \n",
    "                          & (pandas_df.user_review_count > 10)  \n",
    "                          & (pandas_df.review_count > 10)]\n",
    "matrix_x = pd.pivot_table(data=restaurant_df , index='user_id', columns='business_id' , values='review_stars')"
   ]
  },
  {
   "cell_type": "code",
   "execution_count": 7,
   "metadata": {},
   "outputs": [],
   "source": [
    "user_profile = user_profile.toPandas()"
   ]
  },
  {
   "cell_type": "code",
   "execution_count": 190,
   "metadata": {},
   "outputs": [],
   "source": [
    "class User_profile_recommender:\n",
    "    '''\n",
    "    Class that provides recommendation based on user profile and the previously visited restaurants.\n",
    "    '''\n",
    "    def __init__(self , user_profile_df , restaurant_df , location = 'Montreal' , type = 'Restaurants' ):\n",
    "        self.user_profile_df = user_profile_df\n",
    "        self.location = location\n",
    "        self.restaurant_df = restaurant_df\n",
    "        self.tags = self.fetch_user_favourite_tags()\n",
    "    \n",
    "    def fetch_user_favourite_tags(self):\n",
    "        '''\n",
    "        Takes the user_profile as pandas dataframe and return the categories tags as dictionary based on the count.\n",
    "        Step 1: Remove other entries other than Restaurants from user profile\n",
    "        Step 2: capture all the categories in a list and run the counter on it to get the  count\n",
    "        '''\n",
    "        self.user_profile_df = self.user_profile_df[self.user_profile_df.business_categories.\n",
    "                                                    str.\n",
    "                                                    contains('Restaurants')]\n",
    "        l = [val.split(\",\") for val in self.user_profile_df.business_categories]\n",
    "        flatten_list = [str.strip(val) for sublist in l for val in sublist if str.strip(val) not in ['Restaurants','Food']]\n",
    "        counter_dict = Counter(flatten_list)\n",
    "        return counter_dict\n",
    "\n",
    "    def get_recommendations(self):\n",
    "        distinct_business = self.restaurant_df[['business_id', 'business_name' , 'business_categories']].copy()\n",
    "        distinct_business.drop_duplicates(['business_id', 'business_name' , 'business_categories'], inplace = True)\n",
    "        distinct_business.reset_index(drop = True , inplace = True)\n",
    "        distinct_business['rating'] = 0\n",
    "\n",
    "        #Learning -> using DataFrame.at() - Similar to loc, in that both provide label-based lookups. \n",
    "        #Use 'at' if you only need to get or set a single value in a DataFrame or Series.\n",
    "        #doing this --  distinct_business.loc[ 0 : , : ] return complete dataframe because it treats 0 as True for\n",
    "        #row indexing and thus returns all the rows and not the row at index 0.\n",
    "        #Using 'at' acheives it as distinct_business.at[ 0 , 'rating']\n",
    "\n",
    "        '''providing rating based on the number of times a tag occurs in the user profile'''\n",
    "        for i in distinct_business.index:\n",
    "            categories = distinct_business.loc[i , 'business_categories']\n",
    "            for keys, value in tags.items():\n",
    "                if keys in categories:\n",
    "                    distinct_business.at[ i , 'rating'] = distinct_business.at[ i , 'rating'] + value\n",
    "        #Sorting based on rating\n",
    "        distinct_business.sort_values(by = 'rating', inplace = True, ascending = False)\n",
    "        return distinct_business['business_name'].tolist()"
   ]
  },
  {
   "cell_type": "code",
   "execution_count": 191,
   "metadata": {},
   "outputs": [],
   "source": [
    "if __name__ == \"__main__\":\n",
    "    ur = User_profile_recommender(user_profile , restaurant_df )\n",
    "    user_recommendations = ur.get_recommendations()"
   ]
  }
 ],
 "metadata": {
  "kernelspec": {
   "display_name": "Python 3",
   "language": "python",
   "name": "python3"
  },
  "language_info": {
   "codemirror_mode": {
    "name": "ipython",
    "version": 3
   },
   "file_extension": ".py",
   "mimetype": "text/x-python",
   "name": "python",
   "nbconvert_exporter": "python",
   "pygments_lexer": "ipython3",
   "version": "3.7.1"
  }
 },
 "nbformat": 4,
 "nbformat_minor": 2
}
