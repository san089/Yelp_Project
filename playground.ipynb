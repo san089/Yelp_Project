{
 "cells": [
  {
   "cell_type": "code",
   "execution_count": 2,
   "metadata": {},
   "outputs": [],
   "source": [
    "import pyarrow as py\n",
    "import json\n",
    "import os\n",
    "import pandas as pd\n",
    "from pyarrow import parquet"
   ]
  },
  {
   "cell_type": "code",
   "execution_count": 3,
   "metadata": {},
   "outputs": [],
   "source": [
    "file = open(\"C://Users/Sanchit Kumar/Jupyter_Notebook/Yelp_Project/config.json\")\n",
    "config = json.load(file)\n",
    "parquet_file = os.path.join(config['local_paths']['lake_path'],  'user')"
   ]
  },
  {
   "cell_type": "code",
   "execution_count": 16,
   "metadata": {},
   "outputs": [],
   "source": [
    "val = py.parquet.ParquetFile('D:/Capstone/Lake/user/part-00000-9e2cc6ee-07cf-4294-8dda-5e608549c906-c000.snappy.parquet').schema"
   ]
  },
  {
   "cell_type": "code",
   "execution_count": 17,
   "metadata": {},
   "outputs": [
    {
     "name": "stdout",
     "output_type": "stream",
     "text": [
      "average_stars   DOUBLE\n",
      "compliment_cool   INT64\n",
      "compliment_cute   INT64\n",
      "compliment_funny   INT64\n",
      "compliment_hot   INT64\n",
      "compliment_list   INT64\n",
      "compliment_more   INT64\n",
      "compliment_note   INT64\n",
      "compliment_photos   INT64\n",
      "compliment_plain   INT64\n",
      "compliment_profile   INT64\n",
      "compliment_writer   INT64\n",
      "cool   INT64\n",
      "elite   BYTE_ARRAY\n",
      "fans   INT64\n",
      "friends   BYTE_ARRAY\n",
      "funny   INT64\n",
      "name   BYTE_ARRAY\n",
      "review_count   INT64\n",
      "useful   INT64\n",
      "user_id   BYTE_ARRAY\n",
      "yelping_since   BYTE_ARRAY\n"
     ]
    }
   ],
   "source": [
    "for parquet_Schema in val:\n",
    "    col_name = parquet_Schema.name\n",
    "    col_type = parquet_Schema.physical_type\n",
    "    print(col_name , \" \" , col_type)"
   ]
  },
  {
   "cell_type": "code",
   "execution_count": 18,
   "metadata": {},
   "outputs": [],
   "source": [
    "df = pd.read_parquet(parquet_file)"
   ]
  },
  {
   "cell_type": "code",
   "execution_count": 26,
   "metadata": {},
   "outputs": [
    {
     "name": "stdout",
     "output_type": "stream",
     "text": [
      "average_stars,compliment_cool,compliment_cute,compliment_funny,compliment_hot,compliment_list,compliment_more,compliment_note,compliment_photos,compliment_plain,compliment_profile,compliment_writer,cool,elite,fans,friends,funny,name,review_count,useful,user_id,yelping_since,"
     ]
    }
   ],
   "source": [
    "for column in df.columns:\n",
    "    print(column, end= \",\")"
   ]
  },
  {
   "cell_type": "code",
   "execution_count": 29,
   "metadata": {},
   "outputs": [
    {
     "data": {
      "text/plain": [
       "0        456828\n",
       "1         47591\n",
       "2         16003\n",
       "3          8247\n",
       "4          5112\n",
       "5          3432\n",
       "6          2532\n",
       "7          1914\n",
       "8          1573\n",
       "9          1277\n",
       "10         1044\n",
       "11          952\n",
       "12          787\n",
       "13          625\n",
       "14          576\n",
       "16          476\n",
       "15          476\n",
       "17          431\n",
       "18          321\n",
       "19          317\n",
       "20          307\n",
       "21          293\n",
       "22          280\n",
       "23          252\n",
       "26          213\n",
       "27          205\n",
       "24          200\n",
       "25          198\n",
       "29          155\n",
       "28          151\n",
       "          ...  \n",
       "774           1\n",
       "262           1\n",
       "768           1\n",
       "254           1\n",
       "763           1\n",
       "3320          1\n",
       "3833          1\n",
       "3321          1\n",
       "248           1\n",
       "3318          1\n",
       "5876          1\n",
       "2827          1\n",
       "1291          1\n",
       "1804          1\n",
       "2329          1\n",
       "2845          1\n",
       "284           1\n",
       "795           1\n",
       "793           1\n",
       "281           1\n",
       "2841          1\n",
       "1300          1\n",
       "781           1\n",
       "1299          1\n",
       "3347          1\n",
       "1296          1\n",
       "784           1\n",
       "1294          1\n",
       "12552         1\n",
       "2776          1\n",
       "Name: funny, Length: 827, dtype: int64"
      ]
     },
     "execution_count": 29,
     "metadata": {},
     "output_type": "execute_result"
    }
   ],
   "source": [
    "df.funny.value_counts()"
   ]
  }
 ],
 "metadata": {
  "kernelspec": {
   "display_name": "Python 3",
   "language": "python",
   "name": "python3"
  },
  "language_info": {
   "codemirror_mode": {
    "name": "ipython",
    "version": 3
   },
   "file_extension": ".py",
   "mimetype": "text/x-python",
   "name": "python",
   "nbconvert_exporter": "python",
   "pygments_lexer": "ipython3",
   "version": "3.7.1"
  }
 },
 "nbformat": 4,
 "nbformat_minor": 2
}
